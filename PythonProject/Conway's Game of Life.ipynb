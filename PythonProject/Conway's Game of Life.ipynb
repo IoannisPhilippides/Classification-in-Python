{
 "cells": [
  {
   "cell_type": "markdown",
   "metadata": {},
   "source": [
    "# Conway's Game of Life"
   ]
  },
  {
   "cell_type": "markdown",
   "metadata": {},
   "source": [
    "John Conway invented this game as a model of population dynamics, in 1970. Idea: represent the world as an infinite grid. Every grid cell can be \"alive\" (contain a creature) or \"dead\". Once an initial configuration has been determined, the grid proceeds to evolve according to fixed rules:\n",
    "\n",
    "* Every cell that is currently alive will survive into the next generation if exactly two or three of its neighbours are alive. If it has fewer live neighbours, it dies of underpopulation, if it has more, it dies of overcrowding.\n",
    "\n",
    "* Every cell that is currently dead will come alive if exactly three of its neighbours are alive.\n",
    "\n",
    "The game is interesting because with these simple rules, incredibly complex behaviours can be observed. To apply the Python basics from the first part of the lecture, we will implement Conway's game of life in Python.\n",
    "\n",
    "I will use matplotlib for visualisation; I will explain that part of the code only roughly, we will go into more detail about matplotlib later. We will mostly be concerned with implementing the logic of the algorithm itself."
   ]
  },
  {
   "cell_type": "code",
   "execution_count": 1,
   "metadata": {
    "collapsed": false,
    "scrolled": true
   },
   "outputs": [],
   "source": [
    "# Import the libraries required for animation\n",
    "import numpy as np\n",
    "import matplotlib.pyplot as plt \n",
    "import matplotlib.animation as animation\n",
    "\n",
    "# Define the size of the viewport and which cells count as neighbours\n",
    "DIM = 100,100\n",
    "NEIGHBOURS = tuple((dx,dy) for dx in (-1,0,1) for dy in (-1,0,1))\n",
    "ALIVE = None\n",
    "\n",
    "# Render the live cells into a DIM-sized array of colour values\n",
    "# that can be displayed by matshow.\n",
    "def render(alive):\n",
    "    m = np.zeros(DIM)\n",
    "    for y,x in alive:\n",
    "        cell_y = y + DIM[0]//2\n",
    "        cell_x = x + DIM[1]//2\n",
    "        if cell_y>=0 and cell_y < DIM[0] and cell_x>=0 and cell_x < DIM[1]:\n",
    "            m[cell_y, cell_x] = 255\n",
    "    return m\n",
    "\n",
    "# Every frame, the ALIVE set is updated according to the rules\n",
    "# of Game of Life. It is then rendered in the matrix that is being\n",
    "# displayed.\n",
    "def update(it, mat):\n",
    "    global ALIVE\n",
    "    ALIVE = step(ALIVE)\n",
    "    mat.set_data(render(ALIVE))\n",
    "\n",
    "# Some library calls to set up the animation. Don't worry about it.\n",
    "def start_animation():\n",
    "    fig,ax = plt.subplots()\n",
    "    mat = ax.matshow(render(ALIVE), cmap=plt.cm.gray)\n",
    "    ani = animation.FuncAnimation(fig, update, interval=150,\n",
    "                                  save_count=150, fargs=[mat])\n",
    "    plt.show()\n"
   ]
  },
  {
   "cell_type": "code",
   "execution_count": 2,
   "metadata": {
    "collapsed": true
   },
   "outputs": [],
   "source": [
    "def random_cells(n):\n",
    "    alive = set()\n",
    "    y_val = np.random.randint(-DIM[0]//2, DIM[0]//2, n)\n",
    "    x_val = np.random.randint(-DIM[1]//2, DIM[1]//2, n)\n",
    "    for i in range(n):\n",
    "        alive.add((y_val[i],x_val[i]))\n",
    "    return alive\n",
    "\n",
    "def step(alive):\n",
    "    neighbour_count = {}\n",
    "    for cell in alive:\n",
    "        for dy,dx in NEIGHBOURS:\n",
    "            n_cell = cell[0]+dy, cell[1]+dx\n",
    "            if n_cell not in neighbour_count:\n",
    "                neighbour_count[n_cell] = 1\n",
    "            else:\n",
    "                neighbour_count[n_cell] += 1\n",
    "    new_alive = set()\n",
    "    for cell, count in neighbour_count.items():\n",
    "        if (count==3 or ((cell in alive) and count==4)):\n",
    "            new_alive.add(cell)\n",
    "    return new_alive    "
   ]
  },
  {
   "cell_type": "code",
   "execution_count": 3,
   "metadata": {
    "collapsed": true
   },
   "outputs": [],
   "source": [
    "ALIVE = random_cells(2000)\n",
    "start_animation()"
   ]
  },
  {
   "cell_type": "code",
   "execution_count": 4,
   "metadata": {
    "collapsed": false
   },
   "outputs": [
    {
     "name": "stdout",
     "output_type": "stream",
     "text": [
      "\n",
      "........................*...........\n",
      "......................*.*...........\n",
      "............**......**............**\n",
      "...........*...*....**............**\n",
      "**........*.....*...**..............\n",
      "**........*...*.**....*.*...........\n",
      "..........*.....*.......*...........\n",
      "...........*...*....................\n",
      "............**......................\n",
      "\n"
     ]
    }
   ],
   "source": [
    "glider_gun = \"\"\"\n",
    "........................*...........\n",
    "......................*.*...........\n",
    "............**......**............**\n",
    "...........*...*....**............**\n",
    "**........*.....*...**..............\n",
    "**........*...*.**....*.*...........\n",
    "..........*.....*.......*...........\n",
    "...........*...*....................\n",
    "............**......................\n",
    "\"\"\"\n",
    "\n",
    "print(glider_gun)"
   ]
  },
  {
   "cell_type": "code",
   "execution_count": 5,
   "metadata": {
    "collapsed": false
   },
   "outputs": [],
   "source": [
    "def convert(grid):\n",
    "    result = set()\n",
    "    y=0\n",
    "    for line in grid.split(\"\\n\"):\n",
    "        x=0\n",
    "        for symbol in line:\n",
    "            if symbol == \"*\":\n",
    "                result.add((y-DIM[0]//2,x-DIM[1]//2))\n",
    "            x += 1\n",
    "        y += 1\n",
    "    return result"
   ]
  },
  {
   "cell_type": "code",
   "execution_count": 6,
   "metadata": {
    "collapsed": false
   },
   "outputs": [],
   "source": [
    "ALIVE = convert(glider_gun)\n",
    "start_animation()"
   ]
  },
  {
   "cell_type": "code",
   "execution_count": null,
   "metadata": {
    "collapsed": true
   },
   "outputs": [],
   "source": []
  }
 ],
 "metadata": {
  "kernelspec": {
   "display_name": "Python 3",
   "language": "python",
   "name": "python3"
  },
  "language_info": {
   "codemirror_mode": {
    "name": "ipython",
    "version": 3
   },
   "file_extension": ".py",
   "mimetype": "text/x-python",
   "name": "python",
   "nbconvert_exporter": "python",
   "pygments_lexer": "ipython3",
   "version": "3.5.2"
  }
 },
 "nbformat": 4,
 "nbformat_minor": 0
}
