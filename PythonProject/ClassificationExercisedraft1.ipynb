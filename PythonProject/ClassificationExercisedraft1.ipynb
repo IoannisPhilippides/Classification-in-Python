{
 "cells": [
  {
   "cell_type": "markdown",
   "metadata": {},
   "source": [
    "# Simple Nearest Neighbours document classification\n",
    "\n",
    "In this exercise, you will write a program that can classify documents into any number of classes, based on provided training data. There are many classification algorithms; we will look at one of the simplest possible methods, that still often turns out to work quite well in practice: the *nearest neighbour classifier*.\n",
    "\n",
    "The idea is as follows:\n",
    "1. We define a distance function between documents. The distance between two documents that are equal is zero. The more different the documents are, the larger the distance.\n",
    "2. Given a new document that we want to classify, we calculate the distance between it and *all* documents in the training data. One of them will be closest according to the distance measure we defined above. We report the class of the closest match as the predicted class for the new document.\n",
    "\n",
    "You can test your program on the spam dataset that is provided via blackboard. We provide lots of hints as to how to process your data and how to set up your distance function; but some parts of the design will be yours to choose."
   ]
  },
  {
   "cell_type": "markdown",
   "metadata": {},
   "source": [
    "---\n",
    "\n",
    "### Exercise 1\n",
    "\n",
    "\n",
    "We provided some code that allows you to read in an email document. The first step is to be able to figure out all the files that are in some directory.\n",
    "\n",
    "Try out the filelist function below to read and print the files in one of the email directories.\n",
    "\n",
    "---"
   ]
  },
  {
   "cell_type": "code",
   "execution_count": 207,
   "metadata": {
    "collapsed": true
   },
   "outputs": [],
   "source": [
    "from os import listdir           # used to see what files are in a directory\n",
    "from os.path import isfile, join # join concatenates parts of a pathname\n",
    "\n",
    "# in:  the pathname of a directory\n",
    "# out: the list of files in that directory\n",
    "def filelist(path):\n",
    "    return [f for f in listdir(path) if isfile(join(path, f))]"
   ]
  },
  {
   "cell_type": "code",
   "execution_count": 208,
   "metadata": {
    "collapsed": false
   },
   "outputs": [
    {
     "data": {
      "text/plain": [
       "['0006.7a32642f8c22bbeb85d6c3b5f3890a2c',\n",
       " '0007.859c901719011d56f8b652ea071c1f8b',\n",
       " '0009.c05e264fbf18783099b53dbc9a9aacda',\n",
       " '0012.7bc8e619ad0264979edce15083e70a02',\n",
       " '0015.1b871d654560011a0aaa29bb4e9054f7',\n",
       " '0016.f9c349935955e1ccc7626270da898445',\n",
       " '0017.49ab70c7a4042cb1c695a0e59a6ede54',\n",
       " '0019.939e70d8367f315193e4bc5be80dc262',\n",
       " '0021.15185fdb3fb02dffd041fa8f70d19791',\n",
       " '0022.4b5cf3c16feb88dd6932a8c46a41946c',\n",
       " '0023.4299adbda55862876440ecbc2fce6a67',\n",
       " '0024.fc4bd0b22cd7907e99f8a35b74655b15',\n",
       " '0025.97302502dc8e20ab7e7eb05f926e1bab',\n",
       " '0027.028e0b165e8ea6f479e09a8f8cc7e50d',\n",
       " '0029.2b149de91fef9f40880d27ce8c27aeb2',\n",
       " '0030.5d3444135a8ad95fc4ebf9a884076621',\n",
       " '0031.e68d1195ad2c1900a44de8631f8acd91',\n",
       " '0033.489e59d3c7060b70e166ef7317c86807',\n",
       " '0035.8e582263070076dfe6000411d9b13ce6',\n",
       " '0036.8e582263070076dfe6000411d9b13ce6',\n",
       " '0037.7ce3307b56dd90453027a6630179282e',\n",
       " '0038.7ce3307b56dd90453027a6630179282e',\n",
       " '0039.256602e2cb5a5b373bdd1fb631d9f452',\n",
       " '0044.889d785885f092c269741b11f2124dce',\n",
       " '0047.376bd7728ee94b32bc23429d9c51bae5',\n",
       " '0048.462325dc69a8dc74462723ec0d20a5cd',\n",
       " '0050.b8200e218e5a5a433f897e9495253a30',\n",
       " '0055.8b2154bb7ec1f411495f37f519f1835d',\n",
       " '0056.0f99dde58a7c4e18944397ab47e0412c',\n",
       " '0058.abb13c5db31d26a58607aac809573ed4',\n",
       " '0060.140f80780520fa19b360ddcb05838a67',\n",
       " '0062.41f708df91642411f0fd8f91e28d3521',\n",
       " '0063.3bec5361a5edfdbcc371241b3d74e3bf',\n",
       " '0065.18d2edcf9aa0e940651b5fdd218ac019',\n",
       " '0066.93ccd9599561c5277989f03b575d6bff',\n",
       " '0067.02c6e51107f39ee60453ff8e7372101d',\n",
       " '0068.1626952077798d4f2d5eb30e48bc49b3',\n",
       " '0069.a0b6cfde0e477af7f406ee756ba53826',\n",
       " '0070.977e083b104717202fe944ae6065624e',\n",
       " '0072.f97a14d667569ebbc0502bb2c7beec27',\n",
       " '0074.9948514a1f3aac3f27ba2c20db7b0441',\n",
       " '0076.770f0e7b8378a47a945043434f6f43df',\n",
       " '0077.a5c41f056918bde0d5f9be424714766e',\n",
       " '0080.77af9ca7f967f055062aade45001129e',\n",
       " '0081.3309521659461b743e1bfc3dc688a5f1',\n",
       " '0085.6e7b1a983ab05445a7eaffcbb6811d3f',\n",
       " '0086.4b3a02be9a2561ada188d95b4601c01e',\n",
       " '0088.f421d8c380fb0c48483f026d243df9d9',\n",
       " '0089.51c746428bb5e2793a1c04ce1e0c72c1',\n",
       " '0094.3ba780eac7dce1c2b063cd1fc12738be',\n",
       " '0101.2dfd7ee79ae439b8d9c38e783a137efa',\n",
       " '0104.886f4a22362f4d3528c3e675878f17f7',\n",
       " '0105.9790e1c57fcbf7885b7cd1719fb4681b',\n",
       " '0107.f1d4194b57840ea6587b9a73ed88e075',\n",
       " '0109.601a9cd8272f22236b27e95dbe2fa22d',\n",
       " '0110.20934dc65c9a88fc9c6afda9952ce2c5',\n",
       " '0112.ec411d26d1f4decc16af7ef73e69a227',\n",
       " '0113.ff113297f0ed07536d288c7b2193a8ec',\n",
       " '0115.d7c257361675ee5d45baa552205fb472',\n",
       " '0117.33011fddf61efe5f453a14468ff7e629',\n",
       " '0118.4be8b50c2a818c62b62e70c4b5456113',\n",
       " '0120.4312b48b82c3d018d2d4ccf5b8e9c167',\n",
       " '0121.772c3ccd1b6c1a2e0e2ec0356082c77b',\n",
       " '0122.21b041c1ad2be417102d7f5d3f0b7045',\n",
       " '0126.713b324e028cc69213e67ad3d7319f5d',\n",
       " '0127.2923761a91d13d3522d8bd077eedc7b7',\n",
       " '0130.e258624171c813fc6057728c0ff0c059',\n",
       " '0132.7ac2141ed9a163f934ac65b3f59a2a03',\n",
       " '0137.42d5881a50744e24d9280701bb534cfb',\n",
       " '0138.eab076de94bd9f1d19908f682e58031f',\n",
       " '0139.40f371501f8a2a3fb4ff62143c0671b9',\n",
       " '0144.58d3de25279e1938f24502d70dfa9754',\n",
       " '0147.65cf30538f09402e4d1bd4aa91d9532a',\n",
       " '0149.3300ef4537e1f6accd4489125bef5b0d',\n",
       " '0155.829bab9379cfe32fe4b5af15ca99361b',\n",
       " '0157.3f95804da86ee79dbb076c47ed29984c',\n",
       " '0158.ff5dce5446d2ec91f0caffeffdd48852',\n",
       " '0160.b6b241d37fa9d5f772afca9ef30034c3',\n",
       " '0162.261bb4a36b195f96fcc7da4038b898a3',\n",
       " '0164.c8532626eaab6655e81f4d96b78cc659',\n",
       " '0165.6eedc001155da3cbd75a60eba2b19448',\n",
       " '0166.a2e4d6ec3078b619ca38927ca69fc94d',\n",
       " '0168.70400165faa695abca4a96241d393f34',\n",
       " '0169.bc6e1356af0602fb96dd3f721fb17c48',\n",
       " '0171.495412eb56506d9668b9dacf46860978',\n",
       " '0173.f7902a7780f163e3896861983cd700c6',\n",
       " '0179.3a4c735c7c1e494f4e7a7b9465043280',\n",
       " '0180.afdbcd7acb65828c217eea90ff92c3b0',\n",
       " '0182.0fe8b40b189a7bc1ec68b3df5125c602',\n",
       " '0184.a2109736d2f15cde3747a6f335c6f24c',\n",
       " '0186.e739e1c9fdc0702762d3583b26b401eb',\n",
       " '0189.3d89383221aa3fb155a099838ce9c40a',\n",
       " '0190.c861662876d77491e0dc0e95fb3767cd',\n",
       " '0191.cd23170803a4680d6dbd798a4cd1e5dd',\n",
       " '0194.dd4dd86bdd8e1113889af9afaf299d6c',\n",
       " '0196.16da0dc3452b7407d4f89a0b2efcff0c',\n",
       " '0201.9da0b5702a864a8ffd06cfb4c724f9c8',\n",
       " '0203.beb1b157fc74672074061434cc7bad3c',\n",
       " '0204.33e3cd4e0ad791304e554bb259bda53e',\n",
       " '0207.3adcb1a14977a49cac8f6e10f64ac6f7',\n",
       " '0208.a2968a374034368d849b6ed12bdedd37',\n",
       " '0210.285d263b1a18e67c68ec9fe005253dd0',\n",
       " '0211.195957199f6e9f694f9811ad83eda5c4',\n",
       " '0212.9a9f009a6d601e2e34c1b95353983352',\n",
       " '0215.57c4f4d8e2f582088f8aca38239059f7',\n",
       " '0218.e3fc04cbcfdf224a5fa652779c01029c',\n",
       " '0220.15583875f5ef9e2cf6450ebc821f0dff',\n",
       " '0223.8ab642208d33d7f9ac50bc2e42c02732',\n",
       " '0224.486269968d3ad880a016b600dc366393',\n",
       " '0225.7082ef8585280a42940bf98f9be50e55',\n",
       " '0227.4266b9e8c02a2c7b13d4d8661a76f75a',\n",
       " '0228.23fc5aadfceb81d121d77dfe37f6929a',\n",
       " '0229.2c64df059013c03812139543389a836b',\n",
       " '0232.0edc8786183135557c0f2da5a4460508',\n",
       " '0234.1594b3a348279e71c8b769db9aa96b5b',\n",
       " '0235.77e9a7e398ce81359c08e64bf20e9825',\n",
       " '0237.4716d6d5a4e89997c6ffc2d56951d57a',\n",
       " '0242.a8ba01c4d998005e3ad3495293582bb6',\n",
       " '0244.7e5d917c8a76d52cc694c5cf8ab8497d',\n",
       " '0246.3b997087302d48ff57ab5afb3d400d5b',\n",
       " '0247.aee6d7984b3dab9a6b0eed524e7a3686',\n",
       " '0248.b639977f45a5b1e39b5aa3c4abc2edf6',\n",
       " '0250.80b7bd444753246734e015af7b6d2d65',\n",
       " '0253.f715f442da45114754198a160195b883',\n",
       " '0254.02daa37a4255a78f2f224f3cd2f8fa99',\n",
       " '0259.7ebf3c0fd752bce5b8056e9454d2c76f',\n",
       " '0263.c685b2f51853b0986bd992d7486aabfa',\n",
       " '0265.1120a7d868b23e83b91ad00ec8b79e08',\n",
       " '0268.1aee52bc302bf1d5c2030229b5dbd63e',\n",
       " '0269.5b147e2f10b02f4a478036a0b495323e',\n",
       " '0271.24302cf2e759401d1f9975fe4fc1def9',\n",
       " '0272.97ecf97bd5f1563ac88d9eb4c8a51062',\n",
       " '0273.51c482172b47ce926021aa7cc2552549',\n",
       " '0274.85756abb8d0bcfe267e464a2f33ce686',\n",
       " '0276.7e2fed586e292a7ad8cde7cb095a2601',\n",
       " '0277.4b6ea2e210cacce0e46064da22a05549',\n",
       " '0278.229f1cdd03eb4e6ff86e9fd29551f577',\n",
       " '0279.4ef122899a70a2225ffb9b5c54fde1fc',\n",
       " '0282.b9f0c6ac87b24a9abac5f2a564c0a6c6',\n",
       " '0283.04856c4a6fa4393e976c5aaa2c0533d5',\n",
       " '0286.68b939e20e5b9fd6839471f6e9bc07ed',\n",
       " '0288.c50b1fb60cac2cca358d7543602623ee',\n",
       " '0289.93b23ed2f96babb55c0f2a4e0c0684f7',\n",
       " '0291.65fa7c79bc3a75c50655cb044011c50a',\n",
       " '0292.3e12964912377bd9b52d223e37812e56',\n",
       " '0293.ef3561f8707f7fcd1de291d4c2ae9609',\n",
       " '0294.8dde5983e6dcd314a8aa3f89e01c1ec2',\n",
       " '0295.717c906cda92746007b9098e16c727b2',\n",
       " '0297.9e6095368b4e8258e967798cea8fe40e',\n",
       " '0300.fa3ece84a195f3d36a70f2550824071f',\n",
       " '0301.ad155a30cca1f9d16e75e8934030edae',\n",
       " '0302.10798aa48d25b3f61778f379964a57e5',\n",
       " '0304.88cf1d3ce0e138fd9ffb801e675f69b3',\n",
       " '0305.2252f3b41c7fd3a43ac132a6b3391a3b',\n",
       " '0307.2e4dc0cdb1e3b49f0986c19c1f324224',\n",
       " '0308.1245e8fa9e6092687b535e36b367d8fb',\n",
       " '0309.2a74113b0330ea76cecd28571fc6f7fe',\n",
       " '0311.fad7da9629598eaffeaf6896bdf32d9c',\n",
       " '0313.5126f820bf11ba460e2c1611cee632c1',\n",
       " '0314.5b03e0718373f3319eadaec592308aba',\n",
       " '0315.26ca39910895a935e2b8bca93a44ebfe',\n",
       " '0316.018282fecc304f005e952d7c5c181dad',\n",
       " '0317.0bea188e5bd639ae421f07b3ad68c5e0',\n",
       " '0318.da63a8488410932cf780238ec0ba59eb',\n",
       " '0322.77dd826a00ebd4b54a6036394d41da55',\n",
       " '0324.269d2c1815931004c7be2be4d26e8b66',\n",
       " '0326.80f15e07265a22b78068bab5b56b01c7',\n",
       " '0328.cccf842e57907e25d1584cad03f8d2cb',\n",
       " '0329.5c22249fa35fff050675e7df4433b89f',\n",
       " '0332.b82bddb316d2e12418d6ea8791ce5896',\n",
       " '0333.492c1809f9755e305774bed2aaa3aa9b',\n",
       " '0335.9822e1787fca0741a8501bdef7e8bc79',\n",
       " '0336.b864dd710e659f0ef5826dc4d80714f8',\n",
       " '0339.873b4fc31bb79ebea51fdea5cde75b3c',\n",
       " '0340.8e191c37e2d30a639013203aacf60086',\n",
       " '0341.7c13df68bb4feae35d9ea86001a3ecad',\n",
       " '0343.0630afbe4ee1ffd0db0ffb81c6de98de',\n",
       " '0345.b8ba4d6a115368132d1d580c4c9e0307',\n",
       " '0348.e0b89978fa806cf3e7fd3ba0869b3c65',\n",
       " '0349.d87df6b95f0ee4e36364e9d71223485a',\n",
       " '0351.517e785af43ffb3f9e66ab25b3ab162c',\n",
       " '0352.f7adb4aa267e50a8db1e4bcacfe863f3',\n",
       " '0353.27effabff54bfbed52d2c93a1bf0e48a',\n",
       " '0354.457f41d0d6af931597b5137a061cde62',\n",
       " '0355.94ebf637e4bd3db8a81c8ce68ecf681d',\n",
       " '0357.6ca4760de43f3d29316cf6bb0cab6bf5',\n",
       " '0360.5f5fc66c831d845705efac502121308a',\n",
       " '0361.eb828b44c428fcecd4e95e8799a9ee11',\n",
       " '0363.bafc8f5920a1e35acb4b06d6f6daa74c',\n",
       " '0365.212dff15cc46d4650d9a270bf595b42f',\n",
       " '0367.c6d1767b20048ef840cf83f8fb2cff68',\n",
       " '0370.6caa3885378bbaf0856bd9712629ab51',\n",
       " '0371.e4ca4edd7d69a9b54cac7f364f5f2079',\n",
       " '0377.31267c80e042b22be0436c044c13513a',\n",
       " '0379.5b1c7a295af5ccb0a58c5a41d5c5ad04',\n",
       " '0381.492ed1e5eed1b631560e2009be5b8c9a',\n",
       " '0382.8f4cd77d3b521fa679ed62a9dda23d9a',\n",
       " '0390.176f9525715411d7e2ce36e5bab4c770',\n",
       " '0395.bb934e8b4c39d5eab38f828a26f760b4',\n",
       " '0396.8ea0610e30c94adefd9b3489df436ad9',\n",
       " '0397.c02eba1386b00d640c954e5117dd1aa0',\n",
       " '0398.93e6be09b12b93697185c881c739605d',\n",
       " '0399.b9eab4251d9263129290cf7fc2aa4c7a',\n",
       " '0401.450b38785db348f7d8c83c64304dd6e3',\n",
       " '0402.1290489e7e62ac9bb500677606540e5d',\n",
       " '0407.157349d43c03e008f2448e1f37c510aa',\n",
       " '0408.87f7a3c9c29aaf97b413126029aacc6a',\n",
       " '0410.be908008e0e27722a177b289227f5fc1',\n",
       " '0412.4e18b948471feca1fa1610ce7c1259a2',\n",
       " '0413.4c74110f6640067c2172a04543dea670',\n",
       " '0414.4b85e87c5b9235c72f189bf044057f15',\n",
       " '0416.112b010a30255d7d14ee9465d4fe804c',\n",
       " '0417.8e6ff04af5a268d0495259b3f6a24d58',\n",
       " '0418.89cb8cbdd1cd4424829658e11ec6a13e',\n",
       " '0425.d7a3b1ae59479bc986057a03d057615d',\n",
       " '0429.b1077599c85314135e6d82d654c98d55',\n",
       " '0430.17440122811305f78e499d2ed0a1fe46',\n",
       " '0436.97d3a7bc4377152052dd717581387f36',\n",
       " '0437.b2ad4f589c9ca2ef65432465a12915b4',\n",
       " '0438.77cb3de3ddbb68012f0dbe370c4e71dc',\n",
       " '0439.2c6d4d3e8b817c5315a1c61e4eeb7ee9',\n",
       " '0441.b820c1999715c2e5ded6418d2b17723c',\n",
       " '0444.f81c80c3f2d43ecd8b117213f3e60c53',\n",
       " '0448.809b59ce6292db666ef457e3cb08bb39',\n",
       " '0450.a828f09ee44e716e6931866e4743e32a',\n",
       " '0451.588b22df28f4036ff3895447afbcb7f3',\n",
       " '0452.63e7d2b55fd5301d2c5d2f48c9a783f6',\n",
       " '0455.b7a7254a180821d6077a42f7153e12e5',\n",
       " '0457.fc29b47778cf7dae8206fb24985dd8dd',\n",
       " '0458.8c9d2363547ebaf997282910cf21e95c',\n",
       " '0461.27302a2e94d8948f8a81a7d4c8566cf0',\n",
       " '0465.5d27c24cf1797e87a346c02f9bc42587',\n",
       " '0466.11bc31540055c320b62e5886ef27c4b2',\n",
       " '0467.b59a3337d0979ba8d587bf4c166db8b1',\n",
       " '0468.8edb99340b9a96a81813be2d3362605d',\n",
       " '0469.c1d9ab5918d50dac4242ef53c4aaf678',\n",
       " '0470.b9e513715695ea1c79c1e5af0fb0eea9',\n",
       " '0476.0530ef1b33305fdf919489946570685b',\n",
       " '0478.16f274ffd3e884a574c9461012cadea6',\n",
       " '0481.77b1644dfd682bf753d5894ad04f8020',\n",
       " '0484.cd802b94da9c80db5e4432bb661effd1',\n",
       " '0485.9021367278833179285091e5201f5854',\n",
       " '0486.348918a564335556b4fdd8b82f939918',\n",
       " '0488.6d41f6d7222978a3ee2b6cfbfce55a02',\n",
       " '0489.013cd8eb1a0a545e5c6ed066bad0cad7',\n",
       " '0490.5fc0d6e9adcaf702bb7dd303ff2d59e2',\n",
       " '0491.f47154f78397c57b14e05450a16745d5',\n",
       " '0493.c82e983c32e4888b4fbb0084cb303608',\n",
       " '0496.e995facc5d5bc6d3f3a8537d35e0432a',\n",
       " '0498.863566df8e5f17f979edca79d1e87187',\n",
       " '0500.2e8762b67913d1b07bc8da293448d27f']"
      ]
     },
     "execution_count": 208,
     "metadata": {},
     "output_type": "execute_result"
    }
   ],
   "source": [
    "filelist(\"C:/Users/ioannis/Desktop/spam/test\")"
   ]
  },
  {
   "cell_type": "markdown",
   "metadata": {},
   "source": [
    "The next step is to read all the contents of a file into a Python string."
   ]
  },
  {
   "cell_type": "code",
   "execution_count": 209,
   "metadata": {
    "collapsed": true
   },
   "outputs": [],
   "source": [
    "# in:  the pathname of a directory, and the name of a file in that directory\n",
    "# out: a string containing the contents of the file\n",
    "def read_file(path, name):\n",
    "    handle = open(join(path, name), \"rb\")\n",
    "    res = handle.read()\n",
    "    handle.close()\n",
    "    return res"
   ]
  },
  {
   "cell_type": "code",
   "execution_count": 210,
   "metadata": {
    "collapsed": false
   },
   "outputs": [
    {
     "name": "stdout",
     "output_type": "stream",
     "text": [
      "b'From Thecashsystem@firemail.de  Thu Aug 22 16:58:24 2002\\nReturn-Path: <Thecashsystem@firemail.de>\\nDelivered-To: zzzz@localhost.example.com\\nReceived: from localhost (localhost [127.0.0.1])\\n\\tby phobos.labs.example.com (Postfix) with ESMTP id 3453043F99\\n\\tfor <zzzz@localhost>; Thu, 22 Aug 2002 11:58:24 -0400 (EDT)\\nReceived: from mail.webnote.net [193.120.211.219]\\n\\tby localhost with POP3 (fetchmail-5.9.0)\\n\\tfor zzzz@localhost (single-drop); Thu, 22 Aug 2002 16:58:24 +0100 (IST)\\nReceived: from mailbox-13.st1.spray.net (mailbox-13.st1.spray.net [212.78.202.113])\\n\\tby webnote.net (8.9.3/8.9.3) with ESMTP id QAA05573\\n\\tfor <zzzz@example.com>; Thu, 22 Aug 2002 16:55:29 +0100\\nReceived: from freesource (user-24-214-168-210.knology.net [24.214.168.210])\\n\\tby mailbox-13.st1.spray.net (Postfix) with ESMTP\\n\\tid ADDD03E25C; Thu, 22 Aug 2002 17:50:55 +0200 (DST)\\nMessage-ID: <413-220028422154219900@freesource>\\nX-Priority: 1\\nTo: \"1\" <thecashsystem@firemail.de>\\nFrom: \"TheCashSystem\" <Thecashsystem@firemail.de>\\nSubject: RE: Your Bank Account Information \\nDate: Thu, 22 Aug 2002 10:42:19 -0500\\nMIME-Version: 1.0\\nContent-type: text/plain; charset=US-ASCII\\nX-MIME-Autoconverted: from quoted-printable to 8bit by webnote.net id QAA05573\\nContent-Transfer-Encoding: 8bit\\n\\nA POWERHOUSE GIFTING PROGRAM You Don\\'t Want To Miss! \\n \\n  GET IN WITH THE FOUNDERS! \\nThe MAJOR PLAYERS are on This ONE\\nFor ONCE be where the PlayerS are\\nThis is YOUR Private Invitation\\n\\nEXPERTS ARE CALLING THIS THE FASTEST WAY \\nTO HUGE CASH FLOW EVER CONCEIVED\\nLeverage $1,000 into $50,000 Over and Over Again\\n\\nTHE QUESTION HERE IS:\\nYOU EITHER WANT TO BE WEALTHY \\nOR YOU DON\\'T!!!\\nWHICH ONE ARE YOU?\\nI am tossing you a financial lifeline and for your sake I \\nHope you GRAB onto it and hold on tight For the Ride of youR life!\\n\\nTestimonials\\n\\nHear what average people are doing their first few days:\\n\\x93We\\'ve received 8,000 in 1 day and we are doing that over and over again!\\' Q.S. in AL\\n \\x93I\\'m a single mother in FL and I\\'ve received 12,000 in the last 4 days.\\x94 D. S. in FL\\n\\x93I was not sure about this when I sent off my $1,000 pledge, but I got back $2,000 the very next day!\\x94 L.L. in KY\\n\\x93I didn\\'t have the money, so I found myself a partner to work this with. We have received $4,000 over the last 2 days. \\nI think I made the right decision; don\\'t you?\\x94 K. C. in FL\\n\\x93I pick up $3,000 my first day and I  they gave me free leads and all the training, you can too!\\x94 J.W. in CA\\n\\nANNOUNCING: We will CLOSE your sales for YOU! And Help you get a Fax Blast IMMEDIATELY Upon Your Entry!!!    YOU Make the MONEY!!!\\nFREE LEADS!!! TRAINING!!!\\n\\n$$DON\\'T WAIT!!! CALL NOW $$\\nFAX BACK TO: 1-800-421-6318 OR Call 1-800-896-6568 \\n\\nName__________________________________Phone___________________________________________\\n\\nFax_____________________________________Email____________________________________________\\n\\nBest Time To Call_________________________Time Zone________________________________________\\n\\nThis message is sent in compliance of the new e-mail bill. \"Per Section 301, Paragraph (a)(2)(C) of S. 1618, further transmissions by the sender of this email may be stopped, at no cost to you, by sending a reply to this email address with the word \"REMOVE\" in the subject line. Errors, omissions, and exceptions excluded.\\n \\nThis is NOT spam! I have compiled this list from our Replicate Database, relative to Seattle Marketing Group, The Gigt, or Turbo Team for the sole purpose of these communications. Your continued inclusion is ONLY by your gracious permission. If you wish to not receive this mail from me, please send an email to tesrewinter@yahoo.com with \"Remove\" in the subject and you will be deleted immediately.\\n\\n\\n\\n'\n"
     ]
    }
   ],
   "source": [
    "string_file=read_file(\"C:/Users/ioannis/Desktop/spam/test\",'0006.7a32642f8c22bbeb85d6c3b5f3890a2c' )\n",
    "string_file = str(string_file)\n",
    "print(string_file)"
   ]
  },
  {
   "cell_type": "markdown",
   "metadata": {},
   "source": [
    "---\n",
    "\n",
    "### Exercise 2\n",
    "\n",
    "To simplify our task, we are going to ignore the word order and word frequencies in the email messages. To do so, modify the function below so it converts each document string into a *set of words*. Include only words that consist solely of alphabetic characters, and convert all words to lower case.\n",
    "\n",
    "---"
   ]
  },
  {
   "cell_type": "code",
   "execution_count": 222,
   "metadata": {
    "collapsed": false
   },
   "outputs": [],
   "source": [
    "# in:  a long string containing a document\n",
    "# out: a set containing all words in the document, in lower case.\n",
    "def extract_words(str):\n",
    "    import re  \n",
    "    new_file = re.sub(\"[^a-zA-Z ]+\", \"\", str)\n",
    "    return(new_file)"
   ]
  },
  {
   "cell_type": "code",
   "execution_count": 224,
   "metadata": {
    "collapsed": false
   },
   "outputs": [
    {
     "data": {
      "text/plain": [
       "'bfrom thecashsystemfiremailde  thu aug   nreturnpath thecashsystemfiremaildendeliveredto zzzzlocalhostexamplecomnreceived from localhost localhost ntby phoboslabsexamplecom postfix with esmtp id fntfor zzzzlocalhost thu  aug    edtnreceived from mailwebnotenet ntby localhost with pop fetchmailntfor zzzzlocalhost singledrop thu  aug    istnreceived from mailboxstspraynet mailboxstspraynet ntby webnotenet  with esmtp id qaantfor zzzzexamplecom thu  aug   nreceived from freesource userknologynet ntby mailboxstspraynet postfix with esmtpntid adddec thu  aug    dstnmessageid freesourcenxpriority nto  thecashsystemfiremaildenfrom thecashsystem thecashsystemfiremaildensubject re your bank account information ndate thu  aug   nmimeversion ncontenttype textplain charsetusasciinxmimeautoconverted from quotedprintable to bit by webnotenet id qaancontenttransferencoding bitnna powerhouse gifting program you dont want to miss n n  get in with the founders nthe major players are on this onenfor once be where the players arenthis is your private invitationnnexperts are calling this the fastest way nto huge cash flow ever conceivednleverage  into  over and over againnnthe question here isnyou either want to be wealthy nor you dontnwhich one are youni am tossing you a financial lifeline and for your sake i nhope you grab onto it and hold on tight for the ride of your lifenntestimonialsnnhear what average people are doing their first few daysnxweve received  in  day and we are doing that over and over again qs in aln xim a single mother in fl and ive received  in the last  daysx d s in flnxi was not sure about this when i sent off my  pledge but i got back  the very next dayx ll in kynxi didnt have the money so i found myself a partner to work this with we have received  over the last  days ni think i made the right decision dont youx k c in flnxi pick up  my first day and i  they gave me free leads and all the training you can toox jw in cannannouncing we will close your sales for you and help you get a fax blast immediately upon your entry    you make the moneynfree leads trainingnndont wait call now nfax back to  or call  nnnamephonennfaxemailnnbest time to calltime zonennthis message is sent in compliance of the new email bill per section  paragraph ac of s  further transmissions by the sender of this email may be stopped at no cost to you by sending a reply to this email address with the word remove in the subject line errors omissions and exceptions excludedn nthis is not spam i have compiled this list from our replicate database relative to seattle marketing group the gigt or turbo team for the sole purpose of these communications your continued inclusion is only by your gracious permission if you wish to not receive this mail from me please send an email to tesrewinteryahoocom with remove in the subject and you will be deleted immediatelynnnn'"
      ]
     },
     "execution_count": 224,
     "metadata": {},
     "output_type": "execute_result"
    }
   ],
   "source": [
    "str.lower(extract_words(string_file))"
   ]
  },
  {
   "cell_type": "markdown",
   "metadata": {},
   "source": [
    "---\n",
    "\n",
    "### Exercise 3\n",
    "\n",
    "Now that we can read word sets, it is time to decide on an appropriate distance function. We leave the definition of this function up to you: adapt the skeleton code below into a function that you believe will work well, and briefly motivate your choice (in perhaps two lines of text).\n",
    "\n",
    "---"
   ]
  },
  {
   "cell_type": "code",
   "execution_count": 225,
   "metadata": {
    "collapsed": false
   },
   "outputs": [],
   "source": [
    "# in:  two word sets\n",
    "# out: their distance (0 if the sets are equal)\n",
    "     \n",
    "def distance(wordset1, wordset2):\n",
    "    \n",
    "     if wordset1 in string_file and wordset2 in string_file:\n",
    "        return abs(words.index(wordset1) - words.index(wordset2))"
   ]
  },
  {
   "cell_type": "code",
   "execution_count": 226,
   "metadata": {
    "collapsed": false
   },
   "outputs": [],
   "source": [
    "distance(\"only\", \"remove\")"
   ]
  },
  {
   "cell_type": "markdown",
   "metadata": {},
   "source": [
    "** Motivation: **"
   ]
  },
  {
   "cell_type": "markdown",
   "metadata": {},
   "source": [
    "---\n",
    "\n",
    "### Exercise 4\n",
    "\n",
    "We can now compare individual documents. However, we do not have any code for working with all documents in a class simultaneously. A class will be represented as a *dictionary*, mapping the name of each file it contains to the set of words in that file.\n",
    "\n",
    "\n",
    "Adapt the read_class function below to create the dictionary given the name of a directory containing the files for that class.\n",
    "\n",
    "---"
   ]
  },
  {
   "cell_type": "code",
   "execution_count": null,
   "metadata": {
    "collapsed": true
   },
   "outputs": [],
   "source": [
    "# in:  the pathname of a directory containing all files that describe a class\n",
    "# out: a dictionary mapping each filename to its word set\n",
    "def read_class(path):\n",
    "    None # Adapt"
   ]
  },
  {
   "cell_type": "markdown",
   "metadata": {},
   "source": [
    "---\n",
    "\n",
    "### Exercise 5\n",
    "\n",
    "Now that we can obtain the representation of a training class, we need to be able to find how well a test document matches against that class.\n",
    "\n",
    "To do so, the function below should look for the *best matching document* in the class, and return its name and its distance.\n",
    "\n",
    "---"
   ]
  },
  {
   "cell_type": "code",
   "execution_count": null,
   "metadata": {
    "collapsed": true
   },
   "outputs": [],
   "source": [
    "# in:  a wordset and a class\n",
    "# out: the tuple (f,d) where f is the filename of the best match, and\n",
    "#                            d is its distance to the given wordset.\n",
    "def best_match(wordset, cls):\n",
    "    None # Adapt"
   ]
  },
  {
   "cell_type": "markdown",
   "metadata": {},
   "source": [
    "---\n",
    "\n",
    "### Exercise 6\n",
    "\n",
    "This is where it gets a little bit abstract. Just like we have created classes, that are dictionaries which map filenames to wordsets, it will be convenient to bunch up all training classes into a single dictionary, that maps the name of the class to the data for that class.\n",
    "\n",
    "---"
   ]
  },
  {
   "cell_type": "code",
   "execution_count": null,
   "metadata": {
    "collapsed": true
   },
   "outputs": [],
   "source": [
    "# in:  the names of all the considered classes\n",
    "# out: a dictionary mapping each class name to its data\n",
    "def read_training_data(class_names):\n",
    "    None # Adapt"
   ]
  },
  {
   "cell_type": "markdown",
   "metadata": {},
   "source": [
    "---\n",
    "\n",
    "### Exercise 7\n",
    "\n",
    "It is now finally time to implement the nearest neighbour algorithm. The function below should find the best match for the given wordset in *each* class of the training data, and return which file matched best, at what distance that file matched, and what class it belongs to. That class will be the predicted class for the given wordset.\n",
    "\n",
    "---"
   ]
  },
  {
   "cell_type": "code",
   "execution_count": null,
   "metadata": {
    "collapsed": true
   },
   "outputs": [],
   "source": [
    "# in:  a wordset and a dict of classes\n",
    "# out: the filename of the closest file, the distance to that file, and the name of its class\n",
    "def nearest_neighbour(wordset, training_data):\n",
    "    None # Adapt"
   ]
  },
  {
   "cell_type": "markdown",
   "metadata": {},
   "source": [
    "---\n",
    "\n",
    "### Exercise 8\n",
    "\n",
    "Write a test function that will run through all the files in a test directory and predict their class based on the nearest neighbour algorithm using the training data. Report which files get misclassified and at the end report what fraction of files are classified correctly.\n",
    "\n",
    "Also write a main function that applies the test to all test directories. Make sure it works when we run it!\n",
    "\n",
    "The sensitivity of the classifier is the fraction of test spam mails that are correctly classified. The specificity is the fraction of test ham mails that are correctly classified. Do these scores turn out similar for you? Why or why not?\n",
    "\n",
    "The best scores for sensitivity and specificity will be reported in class :-)\n",
    "\n",
    "---"
   ]
  },
  {
   "cell_type": "code",
   "execution_count": null,
   "metadata": {
    "collapsed": false
   },
   "outputs": [],
   "source": [
    "# in:  a dict of training classes, and the name of the class to test\n",
    "# out: a report of the test success\n",
    "def test(training_data, test_class_name):\n",
    "    print(\"Testing \", test_class_name)\n",
    "    # Complete this function\n",
    "    \n",
    "def main():\n",
    "    None # Adapt"
   ]
  }
 ],
 "metadata": {
  "anaconda-cloud": {},
  "kernelspec": {
   "display_name": "Python [default]",
   "language": "python",
   "name": "python3"
  },
  "language_info": {
   "codemirror_mode": {
    "name": "ipython",
    "version": 3
   },
   "file_extension": ".py",
   "mimetype": "text/x-python",
   "name": "python",
   "nbconvert_exporter": "python",
   "pygments_lexer": "ipython3",
   "version": "3.5.2"
  }
 },
 "nbformat": 4,
 "nbformat_minor": 0
}
