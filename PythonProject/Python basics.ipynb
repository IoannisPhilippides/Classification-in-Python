{
 "cells": [
  {
   "cell_type": "markdown",
   "metadata": {},
   "source": [
    "# Numbers: int, float, complex (and modules)\n",
    "\n",
    "Integers can have arbitrary precision:"
   ]
  },
  {
   "cell_type": "code",
   "execution_count": 1,
   "metadata": {
    "collapsed": false
   },
   "outputs": [
    {
     "name": "stdout",
     "output_type": "stream",
     "text": [
      "351160503938693614343626853747071562171016188034295260095490111881784318374960146045355120758560422119505624375491533176393589903573845466689382216842197981277867514717013259791763929689440964343969395781792087124646063583944648684169111729145300510135702655848244592583122673432949987979858826614906829469635537237525614665196540272658828569629679791428934101079072719564710584542576589075082850692588439679596816834818341802539921621995225917260921044846812391894365530686773081140839348912145464664288336497209664739248364322768319800659209785240272285297767697234264001\n",
      "<class 'int'>\n"
     ]
    }
   ],
   "source": [
    "print(9**600)\n",
    "print(type(9**600))"
   ]
  },
  {
   "cell_type": "markdown",
   "metadata": {},
   "source": [
    "Literal float expressions are recognised by the decimal point.\n",
    "Division of two integers yields a float, even when there is no remainder."
   ]
  },
  {
   "cell_type": "code",
   "execution_count": 2,
   "metadata": {
    "collapsed": false
   },
   "outputs": [
    {
     "name": "stdout",
     "output_type": "stream",
     "text": [
      "<class 'float'>\n",
      "<class 'float'>\n",
      "<class 'float'>\n"
     ]
    }
   ],
   "source": [
    "print(type(1.0))\n",
    "print(type(1/3))\n",
    "print(type(4/2))"
   ]
  },
  {
   "cell_type": "markdown",
   "metadata": {},
   "source": [
    "Floating point numbers can be entered using a decimal point or using scientific notation.\n",
    "They do not have arbitrary precision. Floating point numbers can also have the special values 'nan' or 'inf' or '-inf'."
   ]
  },
  {
   "cell_type": "code",
   "execution_count": 3,
   "metadata": {
    "collapsed": false
   },
   "outputs": [
    {
     "name": "stdout",
     "output_type": "stream",
     "text": [
      "30000000000.0\n",
      "3e+20\n",
      "3e-200\n",
      "0.0\n",
      "inf\n"
     ]
    }
   ],
   "source": [
    "print(3e+10)\n",
    "print(3e+20)\n",
    "print(3e-200)\n",
    "print(3e-500)\n",
    "print(3e+500)"
   ]
  },
  {
   "cell_type": "markdown",
   "metadata": {},
   "source": [
    "If the result of an integer operation is a float, but does not fit,\n",
    "you get an error:"
   ]
  },
  {
   "cell_type": "code",
   "execution_count": 4,
   "metadata": {
    "collapsed": false
   },
   "outputs": [
    {
     "ename": "OverflowError",
     "evalue": "integer division result too large for a float",
     "output_type": "error",
     "traceback": [
      "\u001b[0;31m---------------------------------------------------------------------------\u001b[0m",
      "\u001b[0;31mOverflowError\u001b[0m                             Traceback (most recent call last)",
      "\u001b[0;32m<ipython-input-4-d33b9a96d40d>\u001b[0m in \u001b[0;36m<module>\u001b[0;34m()\u001b[0m\n\u001b[0;32m----> 1\u001b[0;31m \u001b[0;36m9\u001b[0m\u001b[0;34m**\u001b[0m\u001b[0;36m600\u001b[0m \u001b[0;34m/\u001b[0m \u001b[0;36m2\u001b[0m\u001b[0;34m\u001b[0m\u001b[0m\n\u001b[0m",
      "\u001b[0;31mOverflowError\u001b[0m: integer division result too large for a float"
     ]
    }
   ],
   "source": [
    "9**600 / 2"
   ]
  },
  {
   "cell_type": "markdown",
   "metadata": {},
   "source": [
    "Both int and float support basic arithmetic operations:"
   ]
  },
  {
   "cell_type": "code",
   "execution_count": 5,
   "metadata": {
    "collapsed": false
   },
   "outputs": [
    {
     "name": "stdout",
     "output_type": "stream",
     "text": [
      "13\n",
      "3\n",
      "40\n",
      "1.6\n",
      "32768\n",
      "1\n",
      "3\n",
      "3\n"
     ]
    }
   ],
   "source": [
    "print(8+5)         # addition\n",
    "print(8-5)         # subtraction\n",
    "print(8*5)         # multiplication\n",
    "print(8/5)         # division (result is always float)\n",
    "print(8**5)        # exponentiation\n",
    "print(8//5)        # integer division\n",
    "print(8%5)         # modulo (remainder after division)\n",
    "print(abs(-3))     # absolute value"
   ]
  },
  {
   "cell_type": "markdown",
   "metadata": {},
   "source": [
    "To access more sophisticated math functions, import the math module. Here are some examples."
   ]
  },
  {
   "cell_type": "code",
   "execution_count": 6,
   "metadata": {
    "collapsed": false
   },
   "outputs": [
    {
     "name": "stdout",
     "output_type": "stream",
     "text": [
      "3.141592653589793\n",
      "1.2246467991473532e-16\n",
      "3.141592653589793\n",
      "-1.0\n"
     ]
    }
   ],
   "source": [
    "# If you import a module X, then all names Y in X are made available\n",
    "# as \"X.Y\".\n",
    "import math \n",
    "\n",
    "# Test some math functions and constants\n",
    "print(math.pi)\n",
    "print(math.sin(math.pi))\n",
    "\n",
    "# Prefixing \"math\" all the time is annoying.\n",
    "# There are two workarounds:\n",
    "\n",
    "# 1. Assign to local variable\n",
    "pi = math.pi\n",
    "print(pi)\n",
    "\n",
    "# 2. Import names from the math module directly into the current namespace\n",
    "from math import sin, cos\n",
    "print(cos(pi))\n"
   ]
  },
  {
   "cell_type": "markdown",
   "metadata": {},
   "source": [
    "Numbers of a given type can be constructed using their type name; this also allows construction of complex numbers:"
   ]
  },
  {
   "cell_type": "code",
   "execution_count": 7,
   "metadata": {
    "collapsed": false
   },
   "outputs": [
    {
     "name": "stdout",
     "output_type": "stream",
     "text": [
      "3\n",
      "1.0\n",
      "(1+1j)\n"
     ]
    }
   ],
   "source": [
    "print(int(3.5))\n",
    "print(float(1))\n",
    "print(complex(1,1))"
   ]
  },
  {
   "cell_type": "markdown",
   "metadata": {},
   "source": [
    "But you can also create complex numbers by writing a j after a number."
   ]
  },
  {
   "cell_type": "code",
   "execution_count": null,
   "metadata": {
    "collapsed": false
   },
   "outputs": [],
   "source": [
    "print(3+1j)\n",
    "print((3+1j).real)\n",
    "print((3+1j).imag)\n",
    "print((1+1j)**2) # (1+i)^2 = 1+2i+i^2 = 1+2i-1 = 2i\n",
    "print(math.exp(2*math.pi*1j))"
   ]
  },
  {
   "cell_type": "markdown",
   "metadata": {},
   "source": [
    "Apparently, exponentiation does not work with complex numbers!"
   ]
  },
  {
   "cell_type": "code",
   "execution_count": null,
   "metadata": {
    "collapsed": false
   },
   "outputs": [],
   "source": [
    "import cmath\n",
    "print(cmath.exp(2*math.pi*1j))"
   ]
  },
  {
   "cell_type": "markdown",
   "metadata": {},
   "source": [
    "# Booleans (and if and while loops)\n",
    "\n",
    "As in R, the results of logical operations are expressed as Boolean values, which can double for 0 and 1."
   ]
  },
  {
   "cell_type": "code",
   "execution_count": 8,
   "metadata": {
    "collapsed": false
   },
   "outputs": [
    {
     "name": "stdout",
     "output_type": "stream",
     "text": [
      "True\n",
      "<class 'bool'>\n",
      "True\n",
      "False\n",
      "0\n",
      "5\n"
     ]
    }
   ],
   "source": [
    "print(1==1)\n",
    "print(type(1==1))\n",
    "print(3<4)\n",
    "print(False)\n",
    "print(False*5)\n",
    "print(True*5)"
   ]
  },
  {
   "cell_type": "markdown",
   "metadata": {},
   "source": [
    "Logical operators can be used with True and False:"
   ]
  },
  {
   "cell_type": "code",
   "execution_count": 9,
   "metadata": {
    "collapsed": false
   },
   "outputs": [
    {
     "name": "stdout",
     "output_type": "stream",
     "text": [
      "False\n",
      "True\n",
      "True\n",
      "False\n",
      "False\n"
     ]
    }
   ],
   "source": [
    "print(not True)\n",
    "\n",
    "print(1==1 or 1==2)\n",
    "print(True or False)\n",
    "\n",
    "print(1==1 and 1==2)\n",
    "print(True and False)\n"
   ]
  },
  {
   "cell_type": "markdown",
   "metadata": {},
   "source": [
    "As in other languages, boolean values can be used in if and while statements:"
   ]
  },
  {
   "cell_type": "code",
   "execution_count": 12,
   "metadata": {
    "collapsed": false
   },
   "outputs": [
    {
     "name": "stdout",
     "output_type": "stream",
     "text": [
      "not bad.\n"
     ]
    }
   ],
   "source": [
    "a = 7\n",
    "if a<5:\n",
    "    print(\"blech!\")\n",
    "elif a<8:\n",
    "    print(\"not bad.\")\n",
    "else:\n",
    "    print(\"yay!\")"
   ]
  },
  {
   "cell_type": "code",
   "execution_count": 16,
   "metadata": {
    "collapsed": false,
    "scrolled": true
   },
   "outputs": [
    {
     "name": "stdout",
     "output_type": "stream",
     "text": [
      "0\n",
      "1\n",
      "2\n",
      "3\n",
      "4\n"
     ]
    }
   ],
   "source": [
    "i=0\n",
    "while i<5:\n",
    "    print(i)\n",
    "    i += 1"
   ]
  },
  {
   "cell_type": "markdown",
   "metadata": {},
   "source": [
    "Note that many other arithmetic operations can be combined with an equals sign: *=, /=, %= and so on are all valid."
   ]
  },
  {
   "cell_type": "markdown",
   "metadata": {},
   "source": [
    "# Strings (and method calls)\n",
    "\n",
    "Python also contains strings. They are created in much the same way they are in R:"
   ]
  },
  {
   "cell_type": "code",
   "execution_count": 17,
   "metadata": {
    "collapsed": false
   },
   "outputs": [
    {
     "name": "stdout",
     "output_type": "stream",
     "text": [
      "She said, 'Hello!'\n",
      "She said, \"Hello!\"\n"
     ]
    }
   ],
   "source": [
    "print(\"She said, 'Hello!'\")\n",
    "print('She said, \"Hello!\"')"
   ]
  },
  {
   "cell_type": "markdown",
   "metadata": {},
   "source": [
    "Strings can be concatenated with +:"
   ]
  },
  {
   "cell_type": "code",
   "execution_count": 18,
   "metadata": {
    "collapsed": false
   },
   "outputs": [
    {
     "name": "stdout",
     "output_type": "stream",
     "text": [
      "hello world\n"
     ]
    }
   ],
   "source": [
    "print(\"hello\" + \" \" + \"world\")"
   ]
  },
  {
   "cell_type": "markdown",
   "metadata": {},
   "source": [
    "Strings are indexed using square brackets. **Indices start at 0!**"
   ]
  },
  {
   "cell_type": "code",
   "execution_count": 19,
   "metadata": {
    "collapsed": false
   },
   "outputs": [
    {
     "name": "stdout",
     "output_type": "stream",
     "text": [
      "h\n",
      "o\n",
      "el\n",
      "hel\n",
      "hlo\n",
      "olleh\n"
     ]
    }
   ],
   "source": [
    "print(\"hello\"[0])\n",
    "print(\"hello\"[-1])\n",
    "print(\"hello\"[1:3])\n",
    "print(\"hello\"[:3])\n",
    "print(\"hello\"[0:5:2])\n",
    "print(\"hello\"[::-1])"
   ]
  },
  {
   "cell_type": "markdown",
   "metadata": {},
   "source": [
    "And you can test for, search for, and count substrings:"
   ]
  },
  {
   "cell_type": "code",
   "execution_count": 20,
   "metadata": {
    "collapsed": false
   },
   "outputs": [
    {
     "name": "stdout",
     "output_type": "stream",
     "text": [
      "True\n",
      "3\n",
      "2\n"
     ]
    }
   ],
   "source": [
    "print(\"el\" in \"hello\")\n",
    "print(\"hello\".index(\"lo\"))\n",
    "print(\"hello\".count(\"l\"))"
   ]
  },
  {
   "cell_type": "markdown",
   "metadata": {},
   "source": [
    "The string length is available with len."
   ]
  },
  {
   "cell_type": "code",
   "execution_count": 21,
   "metadata": {
    "collapsed": false
   },
   "outputs": [
    {
     "name": "stdout",
     "output_type": "stream",
     "text": [
      "5\n"
     ]
    }
   ],
   "source": [
    "print(len(\"hello\"))"
   ]
  },
  {
   "cell_type": "markdown",
   "metadata": {},
   "source": [
    "Strings support a very wide array of operations that it would be boring to cover here. Please check online sources for more information."
   ]
  },
  {
   "cell_type": "markdown",
   "metadata": {},
   "source": [
    "# Sequences (and for loops)\n",
    "\n",
    "Many common and useful types in Python represent *sequences* of things. Strings are one example of a sequence; we will discuss three more. The things we did with strings can actually all be performed on *any* sequence, regardless what kind. Sequences can also be used in for loops, where the loop variable will take on all values in the sequence in turn:"
   ]
  },
  {
   "cell_type": "code",
   "execution_count": 22,
   "metadata": {
    "collapsed": false
   },
   "outputs": [
    {
     "name": "stdout",
     "output_type": "stream",
     "text": [
      "h\n",
      "e\n",
      "l\n",
      "l\n",
      "o\n"
     ]
    }
   ],
   "source": [
    "for i in \"hello\":\n",
    "    print(i)"
   ]
  },
  {
   "cell_type": "markdown",
   "metadata": {},
   "source": [
    "Note the syntax of the for-loop in Python: for [variable name] in [sequence], followed by a colon. The statements that are to be executed by the for-loop are indented. This looks pretty, but is a hotly contested feature of Python.\n",
    "\n",
    "One thing that the indentation rule makes difficult is to have a loop with no statements. To that end, Python has the None keyword, which does nothing:"
   ]
  },
  {
   "cell_type": "code",
   "execution_count": 23,
   "metadata": {
    "collapsed": false
   },
   "outputs": [],
   "source": [
    "for i in \"hello\":\n",
    "    None"
   ]
  },
  {
   "cell_type": "markdown",
   "metadata": {},
   "source": [
    "# Tuples\n",
    "\n",
    "Tuples allow you to group a bunch of values together, forming a sequence. It is a convenient way to return multiple values at once from a function.\n",
    "\n",
    "You can assign to a tuple of variables, which is one way to unpack tuples!"
   ]
  },
  {
   "cell_type": "code",
   "execution_count": 24,
   "metadata": {
    "collapsed": false
   },
   "outputs": [
    {
     "name": "stdout",
     "output_type": "stream",
     "text": [
      "(3, True, 'hello')\n",
      "3\n",
      "3 True hello\n",
      "3\n",
      "2\n",
      "True 3\n",
      "True\n"
     ]
    }
   ],
   "source": [
    "a = 3,True,\"hello\"\n",
    "print(a)\n",
    "print(a[0])\n",
    "b,c,d = a\n",
    "print(b,c,d)\n",
    "print(len(a))\n",
    "print(a.index(\"hello\"))\n",
    "b,c = c,b\n",
    "print(b,c)\n",
    "print('hello' in a)"
   ]
  },
  {
   "cell_type": "markdown",
   "metadata": {},
   "source": [
    "Tuples can appear as a list of values separated by commas, and may be enclosed by parentheses. By nesting tuples inside tuples one can build data structures such as trees:"
   ]
  },
  {
   "cell_type": "code",
   "execution_count": 25,
   "metadata": {
    "collapsed": false
   },
   "outputs": [
    {
     "name": "stdout",
     "output_type": "stream",
     "text": [
      "(3, ((5, 6), 7))\n"
     ]
    }
   ],
   "source": [
    "a = 3, ((5,6), 7)\n",
    "print(a)"
   ]
  },
  {
   "cell_type": "markdown",
   "metadata": {},
   "source": [
    "# Ranges\n",
    "\n",
    "A range is a sequence of numbers. It has the advantage that the sequence is not constructed explicitly in memory, so it is fast and efficient. Ranges are often used as loop indices."
   ]
  },
  {
   "cell_type": "code",
   "execution_count": 29,
   "metadata": {
    "collapsed": false
   },
   "outputs": [
    {
     "name": "stdout",
     "output_type": "stream",
     "text": [
      "range(0, 10)\n",
      "(0, 1, 2, 3, 4, 5, 6, 7, 8, 9)\n",
      "(10, 11, 12, 13, 14)\n",
      "(15, 14, 13, 12, 11)\n",
      "20\n",
      "()\n"
     ]
    }
   ],
   "source": [
    "print(range(10))\n",
    "print(tuple(range(10)))\n",
    "print(tuple(range(10,15)))\n",
    "print(tuple(range(15,10,-1)))\n",
    "print(range(10,40,2)[5])\n",
    "print(tuple(range(15,10)))"
   ]
  },
  {
   "cell_type": "markdown",
   "metadata": {},
   "source": [
    "Example in a for loop:"
   ]
  },
  {
   "cell_type": "code",
   "execution_count": 30,
   "metadata": {
    "collapsed": false
   },
   "outputs": [
    {
     "name": "stdout",
     "output_type": "stream",
     "text": [
      "0\n",
      "1\n",
      "2\n",
      "3\n",
      "4\n"
     ]
    }
   ],
   "source": [
    "for i in range(5):\n",
    "    print(i)"
   ]
  },
  {
   "cell_type": "markdown",
   "metadata": {},
   "source": [
    "# Mutable objects\n",
    "\n",
    "In object oriented languages, values can be created of many different types. One of the important criteria in designing a new object type is whether or not you allow created objects to be modified later.\n",
    "\n",
    "Strings are *immutable*: they cannot be modified on the fly. While this may seem cumbersome, it also makes programming with them easier, because you never need to worry that a string value will suddenly be changed by some part of your program you had forgotten about.\n",
    "\n",
    "All objects we have seen so far, including strings and tuples, are immutable objects:"
   ]
  },
  {
   "cell_type": "code",
   "execution_count": 31,
   "metadata": {
    "collapsed": false
   },
   "outputs": [
    {
     "ename": "TypeError",
     "evalue": "'str' object does not support item assignment",
     "output_type": "error",
     "traceback": [
      "\u001b[0;31m---------------------------------------------------------------------------\u001b[0m",
      "\u001b[0;31mTypeError\u001b[0m                                 Traceback (most recent call last)",
      "\u001b[0;32m<ipython-input-31-147568313925>\u001b[0m in \u001b[0;36m<module>\u001b[0;34m()\u001b[0m\n\u001b[1;32m      1\u001b[0m \u001b[0ma\u001b[0m \u001b[0;34m=\u001b[0m \u001b[0;34m\"hello\"\u001b[0m\u001b[0;34m\u001b[0m\u001b[0m\n\u001b[0;32m----> 2\u001b[0;31m \u001b[0ma\u001b[0m\u001b[0;34m[\u001b[0m\u001b[0;36m3\u001b[0m\u001b[0;34m]\u001b[0m \u001b[0;34m=\u001b[0m \u001b[0;34m\"q\"\u001b[0m\u001b[0;34m\u001b[0m\u001b[0m\n\u001b[0m",
      "\u001b[0;31mTypeError\u001b[0m: 'str' object does not support item assignment"
     ]
    }
   ],
   "source": [
    "a = \"hello\"\n",
    "a[3] = \"q\""
   ]
  },
  {
   "cell_type": "code",
   "execution_count": 32,
   "metadata": {
    "collapsed": false
   },
   "outputs": [
    {
     "ename": "TypeError",
     "evalue": "'tuple' object does not support item assignment",
     "output_type": "error",
     "traceback": [
      "\u001b[0;31m---------------------------------------------------------------------------\u001b[0m",
      "\u001b[0;31mTypeError\u001b[0m                                 Traceback (most recent call last)",
      "\u001b[0;32m<ipython-input-32-cb3cfc561278>\u001b[0m in \u001b[0;36m<module>\u001b[0;34m()\u001b[0m\n\u001b[1;32m      1\u001b[0m \u001b[0ma\u001b[0m \u001b[0;34m=\u001b[0m \u001b[0;36m1\u001b[0m\u001b[0;34m,\u001b[0m \u001b[0;32mFalse\u001b[0m\u001b[0;34m\u001b[0m\u001b[0m\n\u001b[0;32m----> 2\u001b[0;31m \u001b[0ma\u001b[0m\u001b[0;34m[\u001b[0m\u001b[0;36m0\u001b[0m\u001b[0;34m]\u001b[0m \u001b[0;34m=\u001b[0m \u001b[0;34m\"boo\"\u001b[0m\u001b[0;34m\u001b[0m\u001b[0m\n\u001b[0m",
      "\u001b[0;31mTypeError\u001b[0m: 'tuple' object does not support item assignment"
     ]
    }
   ],
   "source": [
    "a = 1, False\n",
    "a[0] = \"boo\""
   ]
  },
  {
   "cell_type": "markdown",
   "metadata": {},
   "source": [
    "Since it is safe to keep many references to the same immutable object, using immutable objects can often *increase* the efficiency of your programs. For example a long string, and a substring of that long string, might both refer to the same object in memory.\n",
    "\n",
    "We will now have a look at mutable sequences, which are called lists."
   ]
  },
  {
   "cell_type": "markdown",
   "metadata": {},
   "source": [
    "# Lists\n",
    "\n",
    "Lists roughly correspond to \"arrays\" in other languages, or to \"lists\" in R. They can be constructed using square brackets or using the \"list\" function and, being sequences, they are indexed in the same ways that strings and tuples are."
   ]
  },
  {
   "cell_type": "code",
   "execution_count": 33,
   "metadata": {
    "collapsed": false
   },
   "outputs": [
    {
     "name": "stdout",
     "output_type": "stream",
     "text": [
      "[3, 4, 5]\n",
      "3\n",
      "[5, 4, 3]\n",
      "[3, 'hello', True]\n"
     ]
    }
   ],
   "source": [
    "print([3,4,5])\n",
    "print([3,4,5][0])\n",
    "print([3,4,5][::-1])\n",
    "print([3,\"hello\", True])"
   ]
  },
  {
   "cell_type": "markdown",
   "metadata": {},
   "source": [
    "As with tuples, you can also *assign* to a list of variables to unpack a list."
   ]
  },
  {
   "cell_type": "code",
   "execution_count": 34,
   "metadata": {
    "collapsed": false
   },
   "outputs": [
    {
     "name": "stdout",
     "output_type": "stream",
     "text": [
      "3\n",
      "4\n",
      "4\n",
      "3\n"
     ]
    }
   ],
   "source": [
    "[a,b] = [3,4]\n",
    "print(a)\n",
    "print(b)\n",
    "[a,b] = [b,a]\n",
    "print(a)\n",
    "print(b)"
   ]
  },
  {
   "cell_type": "markdown",
   "metadata": {},
   "source": [
    "Assorted info on lists:\n",
    "\n",
    "* Since lists are internally represented as an array (a grid of memory cells in the computer), accessing an item at some index is fast, as is appending an item at the end of the list, but inserting or removing an item somewhere in the middle of the list is slow. For the computer scientists: it is *not* a \"linked list\".\n",
    "\n",
    "* Tuples are faster and require less memory than lists. So in your applications, use lists when you need them to be mutable, and use tuples when you don't.\n",
    "\n",
    "* The primary distinction between lists and tuples is that **LISTS ARE MUTABLE**:"
   ]
  },
  {
   "cell_type": "code",
   "execution_count": 35,
   "metadata": {
    "collapsed": false
   },
   "outputs": [
    {
     "name": "stdout",
     "output_type": "stream",
     "text": [
      "[3, 6, 5]\n",
      "[3, 6, 5, 7]\n"
     ]
    }
   ],
   "source": [
    "a = [3,4,5]\n",
    "a[1] = 6\n",
    "print(a)\n",
    "a.append(7)\n",
    "print(a)"
   ]
  },
  {
   "cell_type": "markdown",
   "metadata": {},
   "source": [
    "That looks handy, but it can be a source of confusion:"
   ]
  },
  {
   "cell_type": "code",
   "execution_count": 36,
   "metadata": {
    "collapsed": false
   },
   "outputs": [
    {
     "name": "stdout",
     "output_type": "stream",
     "text": [
      "1. Initially:\n",
      "a =  [3, 4, 5]\n",
      "b =  [3, 4, 5]\n",
      "2. After appending 6 to b\n",
      "a =  [3, 4, 5, 6]\n",
      "b =  [3, 4, 5, 6]\n",
      "3. After copying a then appending 7 to b\n",
      "a =  [3, 4, 5, 6]\n",
      "b =  [3, 4, 5, 6, 7]\n"
     ]
    }
   ],
   "source": [
    "a = [3,4,5]\n",
    "b = a\n",
    "print(\"1. Initially:\")\n",
    "print(\"a = \", a)\n",
    "print(\"b = \", b)\n",
    "b.append(6)\n",
    "print(\"2. After appending 6 to b\")\n",
    "print(\"a = \", a)\n",
    "print(\"b = \", b)\n",
    "b = list(a)\n",
    "b.append(7)\n",
    "print(\"3. After copying a then appending 7 to b\")\n",
    "print(\"a = \", a)\n",
    "print(\"b = \", b)"
   ]
  },
  {
   "cell_type": "markdown",
   "metadata": {},
   "source": [
    "To understand this behaviour, you have to know how objects and references work in Python:"
   ]
  },
  {
   "cell_type": "markdown",
   "metadata": {},
   "source": [
    "# Objects and References\n",
    "\n",
    "Any value in Python is an *object*. As in R, an object has a *type*. Objects are always manipulated via a *reference* to that object; variables always contain such object references, never the objects themselves. Assignment to a variable just copies the reference, it does not duplicate the object. This means you can have *multiple references to the same object*. The operator \"is\" can be used to test if two references refer to the same object:"
   ]
  },
  {
   "cell_type": "code",
   "execution_count": 37,
   "metadata": {
    "collapsed": false
   },
   "outputs": [
    {
     "name": "stdout",
     "output_type": "stream",
     "text": [
      "a==b   yields  True\n",
      "a is b yields  False\n"
     ]
    }
   ],
   "source": [
    "a = \"hello\", \"world\" # create a tuple\n",
    "b = \"hello\", \"world\" # create a second object containing the same tuple\n",
    "print(\"a==b   yields \", a==b)\n",
    "print(\"a is b yields \", a is b)"
   ]
  },
  {
   "cell_type": "markdown",
   "metadata": {},
   "source": [
    "So, while a and b are \"equal\", in the sense that they have the same value, they are not \"identical\": the variables do not refer to the same object. It is important to keep track of which objects are created when, and what variables refer to it. Let's return to the experiment we did on lists:"
   ]
  },
  {
   "cell_type": "code",
   "execution_count": 38,
   "metadata": {
    "collapsed": false
   },
   "outputs": [
    {
     "name": "stdout",
     "output_type": "stream",
     "text": [
      "1. Initially:\n",
      "a==b   yields  True\n",
      "a is b yields  True\n",
      "2. After appending 6 to b\n",
      "a==b   yields  True\n",
      "a is b yields  True\n",
      "3. After copying a into b\n",
      "a==b   yields  True\n",
      "a is b yields  False\n"
     ]
    }
   ],
   "source": [
    "a = [3,4,5]\n",
    "b = a\n",
    "print(\"1. Initially:\")\n",
    "print(\"a==b   yields \", a==b)\n",
    "print(\"a is b yields \", a is b)\n",
    "b.append(6)\n",
    "print(\"2. After appending 6 to b\")\n",
    "print(\"a==b   yields \", a==b)\n",
    "print(\"a is b yields \", a is b)\n",
    "b = list(a)\n",
    "print(\"3. After copying a into b\")\n",
    "print(\"a==b   yields \", a==b)\n",
    "print(\"a is b yields \", a is b)"
   ]
  },
  {
   "cell_type": "markdown",
   "metadata": {},
   "source": [
    "Objects are cleared from the memory once there are no longer any references to them. This is called *garbage collection*."
   ]
  },
  {
   "cell_type": "markdown",
   "metadata": {},
   "source": [
    "# Sets, frozensets, list comprehension\n",
    "\n",
    "Unlike sequences, the elements in a set have no ordering. The advantage of sets is that they allow for very fast membership tests using a technique called hashing. Sets can only store immutable objects that are \"hashable\" (discussed later). All immutable objects we have seen so far qualify."
   ]
  },
  {
   "cell_type": "code",
   "execution_count": 39,
   "metadata": {
    "collapsed": false
   },
   "outputs": [
    {
     "name": "stdout",
     "output_type": "stream",
     "text": [
      "{'aap', 3, (4, True)}\n",
      "True\n",
      "{'aap', (4, True)}\n",
      "{'aap', 3, (4, True), 4}\n"
     ]
    }
   ],
   "source": [
    "a = { \"aap\", 3, (4,True), \"a\"+\"ap\" }\n",
    "print(a)\n",
    "print(3 in a)\n",
    "a.remove(3)\n",
    "print(a)\n",
    "print(a.union({3,4}))"
   ]
  },
  {
   "cell_type": "markdown",
   "metadata": {},
   "source": [
    "There is also a convenient syntax inspired by the mathematical notation for sets. For example in mathematics you might write the set of the first 10 squares as $\\{i^2\\mid 0\\le i<10\\}$. The corresponding notation in Python can construct tuples, lists or sets, and is called \"list comprehension\":"
   ]
  },
  {
   "cell_type": "code",
   "execution_count": 40,
   "metadata": {
    "collapsed": false
   },
   "outputs": [
    {
     "name": "stdout",
     "output_type": "stream",
     "text": [
      "set:  {0, 1, 64, 4, 36, 9, 16, 49, 81, 25}\n",
      "list:  [0, 1, 4, 9, 16, 25, 36, 49, 64, 81]\n",
      "tuple: <generator object <genexpr> at 0x106a25db0>\n",
      "expanded tuple:  (0, 1, 4, 9, 16, 25, 36, 49, 64, 81)\n"
     ]
    }
   ],
   "source": [
    "a = { i*i for i in range(10) }\n",
    "b = [ i*i for i in range(10) ]\n",
    "c = ( i*i for i in range(10) )\n",
    "print(\"set: \",  a)\n",
    "print(\"list: \", b)\n",
    "print(\"tuple:\", c)\n",
    "print(\"expanded tuple: \", tuple(c))"
   ]
  },
  {
   "cell_type": "markdown",
   "metadata": {},
   "source": [
    "List comprehensions are quite powerful and are used a lot in Python. You can also use multiple for specifiers, or exclude certain list elements by adding \"if\" modifiers:"
   ]
  },
  {
   "cell_type": "code",
   "execution_count": 41,
   "metadata": {
    "collapsed": false
   },
   "outputs": [
    {
     "name": "stdout",
     "output_type": "stream",
     "text": [
      "[1, 2, 4, 5, 7, 8]\n",
      "[(0, 0), (0, 1), (0, 2), (1, 0), (1, 1), (1, 2), (2, 0), (2, 1), (2, 2)]\n"
     ]
    }
   ],
   "source": [
    "print([ i for i in range(10) if i%3!=0 ])\n",
    "print([ (i,j) for i in range(3) for j in range(3)])"
   ]
  },
  {
   "cell_type": "markdown",
   "metadata": {},
   "source": [
    "Frozensets are themselves immutable and hence can be used inside other sets:"
   ]
  },
  {
   "cell_type": "code",
   "execution_count": null,
   "metadata": {
    "collapsed": false
   },
   "outputs": [],
   "source": [
    "b = frozenset({\"aap\", 3, (4,True)})\n",
    "print(b)\n",
    "print(\"aap\" in b)\n",
    "a.add(b)\n",
    "print(a)\n",
    "print(b in a)"
   ]
  },
  {
   "cell_type": "markdown",
   "metadata": {},
   "source": [
    "Sets and frozensets can be constructed from any \"iterable\" object, which includes all sequences:"
   ]
  },
  {
   "cell_type": "code",
   "execution_count": null,
   "metadata": {
    "collapsed": false
   },
   "outputs": [],
   "source": [
    "print(frozenset(\"hello\"))"
   ]
  },
  {
   "cell_type": "markdown",
   "metadata": {},
   "source": [
    "As a convenient way to call the methods \"union\", \"intersection\" and \"difference\", the operators |, & and - can be used. The comparison operators access superset/subset tests. The operators only work if both operands are sets; the named methods can work for any iterable object (including any kind of sequence)."
   ]
  },
  {
   "cell_type": "code",
   "execution_count": 42,
   "metadata": {
    "collapsed": false
   },
   "outputs": [
    {
     "name": "stdout",
     "output_type": "stream",
     "text": [
      "union          :  {'aap', 3, 4, 5}\n",
      "intersection   :  {3}\n",
      "difference     :  {'aap', 4}\n",
      "superset/subset:  True False\n",
      "remove sequence:  {25, 10}\n"
     ]
    }
   ],
   "source": [
    "a = {\"aap\", 3, 4}\n",
    "b = {3,5}\n",
    "print(\"union          : \", a | b) # elemements that are in either a or b\n",
    "print(\"intersection   : \", a & b) # elements that are in both a and b\n",
    "print(\"difference     : \", a - b) # those elements of a that are not in b\n",
    "print(\"superset/subset: \", {3,4} < {3,4,5}, {3,4} > {3,4,5})\n",
    "print(\"remove sequence: \", {1,3,10,25}.difference(range(10)))"
   ]
  },
  {
   "cell_type": "markdown",
   "metadata": {},
   "source": [
    "# Dictionaries\n",
    "\n",
    "Dictionaries are like sets, except that all of their elements are interpreted as \"keys\" that index a different object called the \"value\". Dictionaries are also known as maps, associative arrays, or hashes. There are many ways to construct dictionaries: the following examples are from the Python documentation:"
   ]
  },
  {
   "cell_type": "code",
   "execution_count": 43,
   "metadata": {
    "collapsed": false
   },
   "outputs": [
    {
     "name": "stdout",
     "output_type": "stream",
     "text": [
      "True\n"
     ]
    }
   ],
   "source": [
    "a = dict(one=1, two=2, three=3)                  # from named arguments\n",
    "b = {'one': 1, 'two': 2, 'three': 3}             # special notation, like for sets\n",
    "c = dict([('two', 2), ('one', 1), ('three', 3)]) # from list of (key,value) tuples\n",
    "d = dict({'three': 3, 'one': 1, 'two': 2})       # from another dictionary\n",
    "print(a == b == c == d)"
   ]
  },
  {
   "cell_type": "markdown",
   "metadata": {},
   "source": [
    "After constructing a dict you can index its keys using the square bracket notation. Nonexisting keys will yield an error. You can also test whether a key is present using \"in\" or \"not in\"."
   ]
  },
  {
   "cell_type": "code",
   "execution_count": 44,
   "metadata": {
    "collapsed": false
   },
   "outputs": [
    {
     "name": "stdout",
     "output_type": "stream",
     "text": [
      "3\n",
      "{'three': 1, 'four': 2, 'six': 5, 'two': 1, 'five': 'hello', 'one': 0}\n",
      "True False\n"
     ]
    }
   ],
   "source": [
    "a = { \"one\":0, \"two\":1, \"three\":1, \"four\":2, \"five\":3, \"six\":5 }\n",
    "print(a[\"five\"])\n",
    "a[\"five\"] = \"hello\"\n",
    "print(a)\n",
    "print(\"six\" in a, \"seven\" in a)"
   ]
  },
  {
   "cell_type": "markdown",
   "metadata": {},
   "source": [
    "The key,value pairs can be extracted separately or wholesale using the \"keys\", \"values\" and \"items\" methods:"
   ]
  },
  {
   "cell_type": "code",
   "execution_count": 45,
   "metadata": {
    "collapsed": false
   },
   "outputs": [
    {
     "name": "stdout",
     "output_type": "stream",
     "text": [
      "a     : {'three': 1, 'four': 2, 'six': 5, 'two': 1, 'five': 3, 'one': 0}\n",
      "keys  : dict_keys(['three', 'four', 'six', 'two', 'five', 'one'])\n",
      "values: dict_values([1, 2, 5, 1, 3, 0])\n",
      "items : dict_items([('three', 1), ('four', 2), ('six', 5), ('two', 1), ('five', 3), ('one', 0)])\n"
     ]
    }
   ],
   "source": [
    "a = { \"one\":0, \"two\":1, \"three\":1, \"four\":2, \"five\":3, \"six\":5 }\n",
    "print(\"a     :\", a)\n",
    "print(\"keys  :\", a.keys())\n",
    "print(\"values:\", a.values())\n",
    "print(\"items :\", a.items())"
   ]
  },
  {
   "cell_type": "markdown",
   "metadata": {},
   "source": [
    "**Notice that the order of keys in sets and dictionaries is undefined.**"
   ]
  },
  {
   "cell_type": "markdown",
   "metadata": {},
   "source": [
    "# True and False\n",
    "\n",
    "It's important to know what values will get interpreted as true vs false in a language. Let's just test a bunch:"
   ]
  },
  {
   "cell_type": "code",
   "execution_count": 46,
   "metadata": {
    "collapsed": false
   },
   "outputs": [
    {
     "name": "stdout",
     "output_type": "stream",
     "text": [
      "True  is treated as  TRUE\n",
      "False  is treated as  FALSE\n",
      "0  is treated as  FALSE\n",
      "1  is treated as  TRUE\n",
      "2  is treated as  TRUE\n",
      "None  is treated as  FALSE\n",
      "nan  is treated as  TRUE\n",
      "{}  is treated as  FALSE\n",
      "[]  is treated as  FALSE\n",
      "frozenset()  is treated as  FALSE\n",
      "{3}  is treated as  TRUE\n"
     ]
    }
   ],
   "source": [
    "from math import nan\n",
    "\n",
    "for value in [ True, False, 0, 1, 2, None, nan, {}, [], frozenset(), {3} ]:\n",
    "    if value:\n",
    "        t = \"TRUE\"\n",
    "    else:\n",
    "        t = \"FALSE\"\n",
    "    print(value, \" is treated as \", t)"
   ]
  },
  {
   "cell_type": "markdown",
   "metadata": {},
   "source": [
    "** Everything else is True! **"
   ]
  },
  {
   "cell_type": "markdown",
   "metadata": {},
   "source": [
    "# Functions and lambdas\n",
    "\n",
    "Functions are defined with \"def\", and have a list of arguments some of which can be named:"
   ]
  },
  {
   "cell_type": "code",
   "execution_count": 47,
   "metadata": {
    "collapsed": false
   },
   "outputs": [
    {
     "name": "stdout",
     "output_type": "stream",
     "text": [
      "sheep  : shaun\n",
      "life   : is a treat\n",
      "friends: 42\n",
      "\n",
      "sheep  : of Jesus our saviour\n",
      "life   : eternal\n",
      "friends: eight billion\n"
     ]
    }
   ],
   "source": [
    "def demo(sheep, life, friends=42):\n",
    "    print(\"sheep  :\", sheep)\n",
    "    print(\"life   :\", life)\n",
    "    print(\"friends:\", friends)\n",
    "    \n",
    "demo(\"shaun\", \"is a treat\")\n",
    "print()\n",
    "demo(\"of Jesus our saviour\", \"eternal\", \"eight billion\")"
   ]
  },
  {
   "cell_type": "markdown",
   "metadata": {},
   "source": [
    "**Don't modify default parameter values!** They refer to only a single object that is never copied. Preferably, use immutable objects as defaults. (Modifying default parameters should have yielded an error, but it doesn't.)"
   ]
  },
  {
   "cell_type": "code",
   "execution_count": 48,
   "metadata": {
    "collapsed": false
   },
   "outputs": [
    {
     "name": "stdout",
     "output_type": "stream",
     "text": [
      "[5]\n",
      "[5, 8]\n"
     ]
    }
   ],
   "source": [
    "def demo(n, arg = []):\n",
    "    arg.append(n)\n",
    "    return arg\n",
    "\n",
    "print(demo(5))\n",
    "print(demo(8))"
   ]
  },
  {
   "cell_type": "markdown",
   "metadata": {},
   "source": [
    "It can be useful though to have a function modify an object that is passed as an argument.\n",
    "\n",
    "It is possible to quickly define functions that consist of a single expression using lambda. For example, we had a look at the R function \"sapply\" last week; its Python equivalent is called \"map\", which can be applied to any iterable:"
   ]
  },
  {
   "cell_type": "code",
   "execution_count": 49,
   "metadata": {
    "collapsed": false
   },
   "outputs": [
    {
     "name": "stdout",
     "output_type": "stream",
     "text": [
      "(0, 1, 4, 9, 16, 25, 36, 49, 64, 81)\n"
     ]
    }
   ],
   "source": [
    "print(tuple(map(lambda n: n*n, range(10))))"
   ]
  },
  {
   "cell_type": "markdown",
   "metadata": {},
   "source": [
    "# Important: Fill in the blanks!\n",
    "\n",
    "I have provided a lot of information about Python's basic types and operators, but it was in no way exhaustive. There are many tricks that you can learn to improve your fluency with the language. When you are interested to learn more, or when you are unclear about the specifics of, say, the syntax of string literals, or a more complete list of operations supported by sequences, or more detailed information about anything else, then have a look at [the Python 3 language reference](https://docs.python.org/3/reference/index.html)."
   ]
  }
 ],
 "metadata": {
  "kernelspec": {
   "display_name": "Python 3",
   "language": "python",
   "name": "python3"
  },
  "language_info": {
   "codemirror_mode": {
    "name": "ipython",
    "version": 3
   },
   "file_extension": ".py",
   "mimetype": "text/x-python",
   "name": "python",
   "nbconvert_exporter": "python",
   "pygments_lexer": "ipython3",
   "version": "3.5.2"
  }
 },
 "nbformat": 4,
 "nbformat_minor": 0
}
